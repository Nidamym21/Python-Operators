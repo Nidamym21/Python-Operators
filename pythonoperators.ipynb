{
 "cells": [
  {
   "cell_type": "markdown",
   "id": "40351dc1-1063-4401-b1f2-47950201962b",
   "metadata": {},
   "source": [
    "# Python Operators\n",
    "\n",
    "-Python operators are special symbols or keywords that perform operations on variables and values. \n",
    "\n",
    "-They can be categorized into different types based on their functionality."
   ]
  },
  {
   "cell_type": "markdown",
   "id": "37fd1029-09e9-4923-9052-dad7a0b89dd6",
   "metadata": {},
   "source": [
    "# Types of Operators"
   ]
  },
  {
   "cell_type": "markdown",
   "id": "a04d025c-56fa-4c68-b135-21fbac899703",
   "metadata": {},
   "source": [
    "# Arithemtic Operators\n",
    "\n",
    "These operators are used for mathematical calculations like addition, subtraction, multiplication, etc.\n",
    "\n",
    "- +: Addition\n",
    "- -: Subtraction\n",
    "- *: Multiplication\n",
    "- /: Division\n",
    "- %: Modulus (remainder after division)\n",
    "- **: Exponentiation (power)\n",
    "- //: Floor\r\n",
    "\n"
   ]
  },
  {
   "cell_type": "markdown",
   "id": "06b4104a-1be5-45d6-b5f9-59449832ff0a",
   "metadata": {},
   "source": [
    "### Examples"
   ]
  },
  {
   "cell_type": "code",
   "execution_count": 2,
   "id": "a766590b-4038-497b-a3a1-ceb726c88bae",
   "metadata": {},
   "outputs": [
    {
     "name": "stdout",
     "output_type": "stream",
     "text": [
      "10\n",
      "12\n",
      "56\n",
      "6.0\n",
      "1\n",
      "8\n",
      "4\n",
      "11\n",
      "14\n",
      "-5\n"
     ]
    }
   ],
   "source": [
    "# Addition\n",
    "print(8 + 2)   \n",
    "\n",
    "# Subtraction\n",
    "print(20 - 8) \n",
    "\n",
    "# Multiplication\n",
    "print(7* 8)   \n",
    "\n",
    "# Division\n",
    "print(24 / 4)  \n",
    "\n",
    "# Modulus\n",
    "print(10 % 3)  \n",
    "\n",
    "# Exponentiation\n",
    "print(2 ** 3)  \n",
    "\n",
    "# Floor Division\n",
    "print(9 // 2)  \n",
    "\n",
    "# Mixed Operations\n",
    "print(3 + 4 * 2)  \n",
    "\n",
    "# Parentheses for Order of Operations\n",
    "print((3 + 4) * 2)  \n",
    "\n",
    "# Negative Numbers\n",
    "print(-7 + 2)  "
   ]
  },
  {
   "cell_type": "markdown",
   "id": "6565029f-736b-43f8-a903-55776343fdf0",
   "metadata": {},
   "source": [
    "# Comparision operators\n",
    "\n",
    "Comparison operators are used to compare two values and determine the relationship between them.\n",
    "These operators are often used in conditional statements to control the flow of a program based on certain conditions.\n",
    "\n",
    "- Equal to (==): Checks if two values are equal.\n",
    "\n",
    "- Not equal to (!=): Checks if two values are not equal.\n",
    "\n",
    "- Greater than (>): Checks if the value on the left is greater than the value on the right.\n",
    "\n",
    "- Less than (<): Checks if the value on the left is less than the value on the right.\n",
    "\n",
    "- Greater than or equal to (>=): Checks if the value on the left is greater than or equal to the value on the right.\n",
    "\n",
    "- Less than or equal to (<=): Checks if the value on the left is less than or equal to the value on the right.\n",
    "\n"
   ]
  },
  {
   "cell_type": "markdown",
   "id": "0bdad4a5-2358-4cab-8fd0-f686da152d4d",
   "metadata": {},
   "source": [
    "## Examples"
   ]
  },
  {
   "cell_type": "code",
   "execution_count": 3,
   "id": "e4c730c3-0d5a-4626-ad58-45325d755250",
   "metadata": {},
   "outputs": [
    {
     "name": "stdout",
     "output_type": "stream",
     "text": [
      "True\n",
      "True\n",
      "True\n",
      "True\n",
      "True\n",
      "True\n",
      "False\n",
      "True\n",
      "True\n",
      "True\n"
     ]
    }
   ],
   "source": [
    "# Equal to\n",
    "print(7 == 7)  \n",
    "# Not equal to\n",
    "print(8 != 3)  \n",
    "# Greater than\n",
    "print(12 > 5)  \n",
    "# Less than\n",
    "print(10 < 15)  \n",
    "# Greater than or equal to\n",
    "print(10 >= 10)  \n",
    "# Less than or equal to\n",
    "print(5 <= 7)  \n",
    "print(\"mango\" == \"apple\")  \n",
    "print(5 == 5.0)  \n",
    "print(1 < 2 < 3)  \n",
    "print([1, 2] == [1, 2]) "
   ]
  },
  {
   "cell_type": "markdown",
   "id": "241a740d-69e0-4310-b48a-4d5290248fc5",
   "metadata": {},
   "source": [
    "# Assignment operators\n",
    "\n",
    "Assignment operators are used to assign values to variables.\n",
    "\r\n",
    "\r\n",
    "1. **Assignment (`=`)**: Sets a variable to a value.\r\n",
    "\r\n",
    "2. **Addition assignment (`+=`)**: Adds a number to the variable.\r\n",
    "\r\n",
    "3. **Subtraction assignment (`-=`)**: Subtracts a number from the variable.\r\n",
    "\r\n",
    "4. **Multiplication assignment (`*=`)**: Multiplies the variable by a number.\r\n",
    "\r\n",
    "5. **Division assignment (`/=`)**: Divides the variable by a number.\r\n",
    "\r\n",
    "6. **Modulus assignment (`%=`)**: Finds the remainder when dividing the variable by a number.\r\n",
    "\r\n",
    "7. **Exponentiation assignment (`**=`)**: Raises the variable to a power.\r\n",
    "\r\n",
    "8. **Floor division assignment (`//=`)**: Divides the variable by a number and rounds down.\n",
    "\n",
    "\n"
   ]
  },
  {
   "cell_type": "markdown",
   "id": "3a2362d7-8232-4f28-bc05-09e9492974fe",
   "metadata": {},
   "source": [
    "## Examples"
   ]
  },
  {
   "cell_type": "code",
   "execution_count": 8,
   "id": "7e488eab-1866-4c0b-ad72-ab9cac41df46",
   "metadata": {},
   "outputs": [
    {
     "name": "stdout",
     "output_type": "stream",
     "text": [
      "10\n",
      "16\n",
      "-15\n",
      "16\n",
      "2.0\n",
      "40353607\n",
      "1\n",
      "0\n"
     ]
    }
   ],
   "source": [
    "a = 10\n",
    "b = 6\n",
    "#Assignment\n",
    "print(a)\n",
    "\n",
    "\n",
    "#Addition Assignment\n",
    "a = a+b\n",
    "print(a)\n",
    "\n",
    "#subtraction Assignment\n",
    "a = 12\n",
    "b = 27\n",
    "a = a-b\n",
    "print(a)\n",
    "\n",
    "\n",
    "#Multiplication Assignment\n",
    "a = 8\n",
    "b = 2\n",
    "a = a*b\n",
    "print(a)\n",
    "\n",
    "\n",
    "#Division assignment\n",
    "a = 10\n",
    "b = 5\n",
    "a = a/b\n",
    "print(a)\n",
    "\n",
    "\n",
    "#Exponentiation Assignment\n",
    "a = 7\n",
    "b = 9\n",
    "a = a**b\n",
    "print(a)\n",
    "\n",
    "\n",
    "#Floor Division Assignment\n",
    "a = 9\n",
    "b = 8\n",
    "a = a//b\n",
    "print(a)\n",
    "\n",
    "#Modulus Assignment\n",
    "a = 12\n",
    "b = 2\n",
    "a = a%b\n",
    "print(a)\n"
   ]
  },
  {
   "cell_type": "markdown",
   "id": "83d3d5c9-bce0-451f-a6bd-b026d5e9ddf2",
   "metadata": {},
   "source": [
    "# Logical Operators\n",
    "\n",
    "Logical operators are used as tools to combine or change true/false values\n",
    "\n",
    "- AND (and): Checks if both things are true. It only gives True if both are true.\n",
    "\n",
    "- OR (or): Checks if at least one thing is true. It gives True if at least one is true.\n",
    "\n",
    "- NOT (not): Flips the value. If something is True, not makes it False, and if it’s False, not makes it True.\n",
    "\n"
   ]
  },
  {
   "cell_type": "markdown",
   "id": "dc5db176-43f2-4243-867e-9b0a5531c923",
   "metadata": {},
   "source": [
    "## Examples"
   ]
  },
  {
   "cell_type": "code",
   "execution_count": 10,
   "id": "c2b5f565-540b-4c8c-b6fb-c7d6649cb00a",
   "metadata": {},
   "outputs": [
    {
     "name": "stdout",
     "output_type": "stream",
     "text": [
      "True\n",
      "True\n",
      "True\n",
      "False\n",
      "False\n",
      "True\n",
      "False\n",
      "0\n",
      "True\n",
      "False\n",
      "1\n"
     ]
    }
   ],
   "source": [
    "x= 6\n",
    "#And operator\n",
    "print(x < 10 and x > 2)\n",
    "\n",
    "\n",
    "x = 10\n",
    "#Or operator\n",
    "print(x < 3 or x > 1)\n",
    "\n",
    "\n",
    "x = 9\n",
    "#not operator\n",
    "print(not(x < 5))\n",
    "\n",
    "print(True and False)  \n",
    " \n",
    "print(not True)  \n",
    "\n",
    "print((5 > 3) and (2 < 4))  \n",
    "\n",
    "print(not (5 > 3 and 2 < 4))\n",
    "\n",
    "print(\"hello\" and 0) \n",
    "\n",
    "print(True or (1 / 0))\n",
    "\n",
    "print(False and (1 / 0))  \n",
    "\n",
    "print(0 or 1) \n"
   ]
  },
  {
   "cell_type": "markdown",
   "id": "0b94cefe-bcba-4b8e-863f-753df854d2dc",
   "metadata": {},
   "source": [
    "# Membership operator\n",
    "\n",
    "A membership operator is used to check if a value is present within a collection, such as a list, tuple, or string or a collection (like a set or dictionary). \n",
    "\n",
    "The common membership operators are:\r\n",
    "\r\n",
    "- **`in`**: Returns `True` if the value is found in the collection; otherwise, returns `False`.\r\n",
    "- **`not in`**: Returns `True` if the value is not found in the collection; otherwise, returns `False`.\n",
    "\n"
   ]
  },
  {
   "cell_type": "markdown",
   "id": "ce5c7065-145a-4852-a62e-ab544c778ba8",
   "metadata": {},
   "source": [
    "## Examples"
   ]
  },
  {
   "cell_type": "code",
   "execution_count": 11,
   "id": "423f692e-6945-4588-acd2-73c72a677e42",
   "metadata": {},
   "outputs": [
    {
     "name": "stdout",
     "output_type": "stream",
     "text": [
      "True\n",
      "False\n"
     ]
    }
   ],
   "source": [
    "fruits = ['grapes', 'apple', 'cherry']\n",
    "print('apple' in fruits)\n",
    "print('orange' in fruits)   \n",
    "#In this example, 'apple' in fruits evaluates to True because 'apple' is an element in the fruits list."
   ]
  },
  {
   "cell_type": "code",
   "execution_count": 26,
   "id": "dd5267f5-6b1a-43c9-97ee-0cb7de780824",
   "metadata": {},
   "outputs": [
    {
     "name": "stdout",
     "output_type": "stream",
     "text": [
      "True\n",
      "False\n"
     ]
    }
   ],
   "source": [
    "a = [\"apple\",\"cherry\"]\n",
    "print(\"orange\" not in a)\n",
    "print(\"cherry\" not in a)\n",
    "\n",
    "# Here,'orange' not in fruits evaluates to True because 'grape' is not an element in the fruits list.\n"
   ]
  },
  {
   "cell_type": "code",
   "execution_count": 31,
   "id": "e71e05da-8ae5-4d11-b40a-b7f4dd0950a8",
   "metadata": {},
   "outputs": [
    {
     "name": "stdout",
     "output_type": "stream",
     "text": [
      "True\n",
      "True\n",
      "False\n",
      "True\n",
      "True\n",
      "True\n",
      "False\n",
      "False\n",
      "True\n",
      "True\n",
      "False\n"
     ]
    }
   ],
   "source": [
    "\n",
    "# Example with a string\n",
    "text = 'hello'\n",
    "print('e' in text)\n",
    "\n",
    "text = 'hello'\n",
    "print('x' not in text)\n",
    "\n",
    "text = 'world'\n",
    "print('o' not in text)\n",
    "\n",
    "# Example with a tuple\n",
    "numbers = (1, 2, 3, 4, 5)\n",
    "print(3 in numbers)  \n",
    "\n",
    "numbers = (1, 2, 3, 4, 5)\n",
    "print(6 not in numbers)\n",
    "\n",
    "# Example with a set\n",
    "colors = {'red', 'green', 'blue'}\n",
    "print('green' in colors) \n",
    "\n",
    "animals = {'cat', 'dog', 'rabbit'}\n",
    "print('dog' not in animals) \n",
    "\n",
    "# Example with a dictionary \n",
    "data = {'name': 'Alice', 'age': 30}\n",
    "print('address' in data)\n",
    "\n",
    "data = {'name': 'Alice', 'age': 30}\n",
    "print('name' in data)\n",
    "\n",
    "# Example with a list\n",
    "fruits = ['apple', 'banana', 'cherry']\n",
    "print('banana' in fruits)\n",
    "fruits = ['apple', 'banana', 'cherry']\n",
    "print('apple' not in fruits) "
   ]
  },
  {
   "cell_type": "markdown",
   "id": "96deefb4-7ddb-4828-8af0-a4fde74406a1",
   "metadata": {},
   "source": [
    "# Identity Operator\n",
    "Identity operators are used to check if two variables are the same object or different objects.\n",
    "Identity operators are used to check if two variables are the same object or different objects:\n",
    "It is used to identify whether the value is present or not\n",
    "\n",
    "- is: Returns True if two variables point to the same object (e.g., a is b).\r",
    "- \n",
    "is not: Returns True if two variables point to different objects (e.g.,ax is notby).\n",
    "\n"
   ]
  },
  {
   "cell_type": "markdown",
   "id": "7f309427-6980-436f-9eb2-bb0768a0cb8e",
   "metadata": {},
   "source": [
    "## Examples"
   ]
  },
  {
   "cell_type": "code",
   "execution_count": 33,
   "id": "f7337f4a-6ad8-4114-8e52-f176f3b37252",
   "metadata": {},
   "outputs": [
    {
     "name": "stdout",
     "output_type": "stream",
     "text": [
      "True\n",
      "False\n",
      "False\n",
      "True\n",
      "True\n",
      "False\n",
      "False\n",
      "True\n",
      "False\n",
      "True\n",
      "True\n",
      "False\n",
      "False\n",
      "True\n",
      "False\n",
      "True\n",
      "False\n",
      "True\n",
      "False\n",
      "True\n"
     ]
    }
   ],
   "source": [
    "x = 500\n",
    "y = 500\n",
    "print(x is y)      \n",
    "print(x is not y)   \n",
    "\n",
    "\n",
    "a = 200\n",
    "b = 200\n",
    "print(a is b)      \n",
    "print(a is not b)   \n",
    "\n",
    "\n",
    "c = \"hello world\"\n",
    "d = \"hello world\"\n",
    "print(c is d)       \n",
    "print(c is not d)   \n",
    "\n",
    "\n",
    "g = [1, 2, 3]\n",
    "h = [1, 2, 3]\n",
    "print(g is h)      \n",
    "print(g is not h)   \n",
    "\n",
    "\n",
    "i = (1, 2, 3)\n",
    "j = (1, 2, 3)\n",
    "print(i is j)      \n",
    "print(i is not j)   \n",
    "\n",
    "\n",
    "k = None\n",
    "l = None\n",
    "print(k is l)      \n",
    "print(k is not l)   \n",
    "\n",
    "\n",
    "m = {'a': 1}\n",
    "n = {'a': 1}\n",
    "print(m is n)      \n",
    "print(m is not n)   \n",
    "\n",
    "o = [[1, 2], [3, 4]]\n",
    "p = [[1, 2], [3, 4]]\n",
    "print(o is p)       \n",
    "print(o is not p)  \n",
    "\n",
    "a = [\"orange\",\"mango\"]\n",
    "b = [\"guava\",\"grapes\"] \n",
    "c = [\"guava\",\"grapes\"]\n",
    "print(a is c)\n",
    "print(b is not c)\n",
    "\n",
    "a = [\"apple\",\"mango\"]\n",
    "b = [\"apple\",\"grapes\"] \n",
    "c = [\"mango\",\"grapes\"]\n",
    "print(a is c)\n",
    "print(b is not c)\n"
   ]
  },
  {
   "cell_type": "markdown",
   "id": "7fc0a54e-cef6-44a0-be77-835917528c3a",
   "metadata": {},
   "source": [
    "# Bitwise Operators\n",
    "\n",
    " Bitwise operators in Python are used to perform operations on the binary representations of integers.\n",
    "\n",
    " \n",
    " These operations are carried out bit by bit, and they are essential for low-level programming tasks, such as cryptography, data compression, and system programming.\n",
    "  \n",
    "- AND (&): Compares two numbers bit by bit. If both bits are 1, the result is 1; otherwise, it’s 0.\n",
    "\n",
    "- OR (|): Compares two numbers bit by bit. If one or both bits are 1, the result is 1.\n",
    "\n",
    "- XOR (^): Compares two numbers bit by bit. If the bits are different, the result is 1; if they’re the same, it’s 0.\n",
    "\n",
    "- NOT (~): Flips all the bits. 1 becomes 0, and 0 becomes 1.\n",
    "\n",
    "- Left Shift (<<): Moves all bits to the left. It's like multiplying the number by 2.\n",
    "\n",
    "- Right Shift (>>): Moves all bits to the right. It's like dividing the number by 2.\n"
   ]
  },
  {
   "cell_type": "markdown",
   "id": "1da7c7f1-dbe4-4a6c-9cac-ac8026399448",
   "metadata": {},
   "source": [
    "## Examples "
   ]
  },
  {
   "cell_type": "code",
   "execution_count": 1,
   "id": "45b39f0e-8855-4402-9816-cc5a6d19bdba",
   "metadata": {},
   "outputs": [
    {
     "name": "stdout",
     "output_type": "stream",
     "text": [
      "3\n",
      "47\n",
      "44\n",
      "-8\n",
      "14\n",
      "3\n"
     ]
    }
   ],
   "source": [
    "a = 7  \r\n",
    "b =43   \r\n",
    "\r\n",
    "# 1. Bitwise AND\r\n",
    "print(a & b)  \r\n",
    "\r\n",
    "# 2. Bitwise OR\r\n",
    "print(a | b)  \r\n",
    "\r\n",
    "# 3. Bitwise XOR\r\n",
    "print(a ^ b)  \r\n",
    "\r\n",
    "# 4. Bitwise NOT\r\n",
    "print(~a)    \r\n",
    "\r\n",
    "# 5. Left Shift\r\n",
    "print(a << 1) \r\n",
    "#right shift\r\n",
    "print(a >> 1) "
   ]
  },
  {
   "cell_type": "code",
   "execution_count": 2,
   "id": "1cdf5d4f-d774-41df-bc14-6628c7f0ad35",
   "metadata": {},
   "outputs": [
    {
     "name": "stdout",
     "output_type": "stream",
     "text": [
      "0\n"
     ]
    }
   ],
   "source": [
    "a=18\n",
    "b=9\n",
    "print(a>>b)\n",
    "     "
   ]
  },
  {
   "cell_type": "code",
   "execution_count": 3,
   "id": "4e17ef88-7efa-4278-9362-684be4724bc5",
   "metadata": {},
   "outputs": [
    {
     "name": "stdout",
     "output_type": "stream",
     "text": [
      "AND: 1\n",
      "OR: 7\n",
      "XOR: 6\n",
      "NOT: -6\n",
      "Left Shift: 10\n",
      "Right Shift: 2\n"
     ]
    }
   ],
   "source": [
    "a = 5  # binary: 101\n",
    "b = 3  # binary: 011\n",
    "\n",
    "# AND operator\n",
    "and_result = a & b  # Output: 1 (binary: 001)\n",
    "\n",
    "# OR operator\n",
    "or_result = a | b  # Output: 7 (binary: 111)\n",
    "\n",
    "# XOR operator\n",
    "xor_result = a ^ b  # Output: 6 (binary: 110)\n",
    "\n",
    "# NOT operator\n",
    "not_result = ~a  # Output: -6 (bitwise negation flips the bits of 5)\n",
    "\n",
    "# Left Shift operator\n",
    "left_shift_result = a << 1  # Output: 10 (binary: 1010)\n",
    "\n",
    "# Right Shift operator\n",
    "right_shift_result = a >> 1  # Output: 2 (binary: 010)\n",
    "\n",
    "print(\"AND:\", and_result)\n",
    "print(\"OR:\", or_result)\n",
    "print(\"XOR:\", xor_result)\n",
    "print(\"NOT:\", not_result)\n",
    "print(\"Left Shift:\", left_shift_result)\n",
    "print(\"Right Shift:\", right_shift_result)\n"
   ]
  },
  {
   "cell_type": "code",
   "execution_count": null,
   "id": "f3070c37-6230-432e-adea-e1db51edb19e",
   "metadata": {},
   "outputs": [],
   "source": []
  }
 ],
 "metadata": {
  "kernelspec": {
   "display_name": "Python 3 (ipykernel)",
   "language": "python",
   "name": "python3"
  },
  "language_info": {
   "codemirror_mode": {
    "name": "ipython",
    "version": 3
   },
   "file_extension": ".py",
   "mimetype": "text/x-python",
   "name": "python",
   "nbconvert_exporter": "python",
   "pygments_lexer": "ipython3",
   "version": "3.12.4"
  }
 },
 "nbformat": 4,
 "nbformat_minor": 5
}
